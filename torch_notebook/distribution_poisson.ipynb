{
 "metadata": {
  "language_info": {
   "codemirror_mode": {
    "name": "ipython",
    "version": 3
   },
   "file_extension": ".py",
   "mimetype": "text/x-python",
   "name": "python",
   "nbconvert_exporter": "python",
   "pygments_lexer": "ipython3",
   "version": "3.8.3-final"
  },
  "orig_nbformat": 2,
  "kernelspec": {
   "name": "python_defaultSpec_1598519525239",
   "display_name": "Python 3.8.3 64-bit ('base': conda)"
  }
 },
 "nbformat": 4,
 "nbformat_minor": 2,
 "cells": [
  {
   "cell_type": "markdown",
   "metadata": {},
   "source": [
    "# 以泊松分布的方式获取整数列"
   ]
  },
  {
   "cell_type": "markdown",
   "metadata": {},
   "source": [
    "## 泊松分布公式\n",
    "$$\n",
    "P(X=k)=\\frac{\\lambda^k}{k!}e^{-\\lambda}\n",
    "$$\n",
    "1. 泊松分布为离散分布\n",
    "2. 其中$\\lambda$是泊松分布的均值\n",
    "3. 该公式指：在足够多的实验下所得均值为$\\lambda$的条件下，实验所得值为`k`的概率"
   ]
  },
  {
   "cell_type": "markdown",
   "metadata": {},
   "source": [
    "## 泊松脉冲的频率分布\n",
    "1. 将上述公式中的$\\lambda$转换成脉冲的频率均值*rate*\n",
    "   > 例如设`一组实验`为：将`1s`以`1ms`为单位划分为1000份，每`1ms`实验一次，这组实验共1000次。`进行多组实验`，求多组实验的脉冲次数均值为*rate*。\n",
    "2. 此时`随机变量X`是一组实验的脉冲次数，随机变量`X`为整数"
   ]
  },
  {
   "cell_type": "markdown",
   "metadata": {},
   "source": [
    "## 获取符合泊松分布的0/1脉冲序列\n",
    "1. 从另一个角度看，脉冲的频率分布与脉冲时间间隔分布是可以相互转换的\n"
   ]
  },
  {
   "cell_type": "code",
   "execution_count": 14,
   "metadata": {
    "tags": []
   },
   "outputs": [
    {
     "output_type": "stream",
     "name": "stdout",
     "text": "[0, 0, 0, 0, 0, 0, 0, 0, 0, 0, 0, 0, 1, 0, 0, 0, 0, 0, 0, 0, 0, 1, 0, 0, 0, 0, 0, 1, 0, 0, 0, 0, 1, 0, 0, 0, 0, 0, 0, 0, 0, 0, 0, 0, 0, 0, 0, 0, 1, 0, 0, 0, 0, 0, 0, 0, 0, 0, 0, 0, 1, 0, 0, 0, 0, 0, 0, 1, 0, 0, 0, 0, 0, 0, 0, 0, 0, 0, 0, 0, 0, 1, 0, 0, 0, 0, 0, 0, 0, 0, 1, 0, 0, 0, 0, 0, 0, 0, 0, 1]\n"
    }
   ],
   "source": [
    "from torch.distributions import Poisson\n",
    "import torch\n",
    "\n",
    "T = 100\n",
    "rate = 10\n",
    "# 计算每隔多少interval发放一次\n",
    "interval_mean = int(T / 10)\n",
    "interval_generate = Poisson(interval_mean)\n",
    "\n",
    "assert rate > 0\n",
    "interval_sum = 0\n",
    "\n",
    "spike = [0 for _ in range(T)]\n",
    "\n",
    "while True:\n",
    "    # 获取下一个脉冲的时间间隔\n",
    "    interval = interval_generate.sample().item()\n",
    "    interval_sum += int(interval)\n",
    "    # print(interval)\n",
    "    if interval_sum > T+1:\n",
    "        break\n",
    "    spike[interval_sum] = 1\n",
    "\n",
    "print(spike)"
   ]
  },
  {
   "cell_type": "markdown",
   "metadata": {},
   "source": [
    "## bindsnet源码"
   ]
  },
  {
   "cell_type": "code",
   "execution_count": null,
   "metadata": {},
   "outputs": [],
   "source": [
    "def poisson(datum: torch.Tensor, time: int, dt: float = 1.0, **kwargs) -> torch.Tensor:\n",
    "    # language=rst\n",
    "    \"\"\"\n",
    "    Generates Poisson-distributed spike trains based on input intensity. Inputs must be\n",
    "    non-negative, and give the firing rate in Hz. Inter-spike intervals (ISIs) for\n",
    "    non-negative data incremented by one to avoid zero intervals while maintaining ISI\n",
    "    distributions.\n",
    "    :param datum: Tensor of shape ``[n_1, ..., n_k]``.\n",
    "    :param time: Length of Poisson spike train per input variable.\n",
    "    :param dt: Simulation time step.\n",
    "    :return: Tensor of shape ``[time, n_1, ..., n_k]`` of Poisson-distributed spikes.\n",
    "    \"\"\"\n",
    "    assert (datum >= 0).all(), \"Inputs must be non-negative\"\n",
    "\n",
    "    # Get shape and size of data.\n",
    "    shape, size = datum.shape, datum.numel()\n",
    "    datum = datum.flatten()\n",
    "    time = int(time / dt)\n",
    "\n",
    "    # Compute firing rates in seconds as function of data intensity,\n",
    "    # accounting for simulation time step.\n",
    "    rate = torch.zeros(size)\n",
    "    rate[datum != 0] = 1 / datum[datum != 0] * (1000 / dt)\n",
    "\n",
    "    # Create Poisson distribution and sample inter-spike intervals\n",
    "    # (incrementing by 1 to avoid zero intervals).\n",
    "    dist = torch.distributions.Poisson(rate=rate)\n",
    "    intervals = dist.sample(sample_shape=torch.Size([time + 1]))\n",
    "    intervals[:, datum != 0] += (intervals[:, datum != 0] == 0).float()\n",
    "\n",
    "    #-------------------------------------------------------------------\n",
    "    # 与上一部分代码的循环作用等效\n",
    "    # Calculate spike times by cumulatively summing over time dimension.\n",
    "    times = torch.cumsum(intervals, dim=0).long()\n",
    "    times[times >= time + 1] = 0\n",
    "\n",
    "    # Create tensor of spikes.\n",
    "    spikes = torch.zeros(time + 1, size).byte()\n",
    "    spikes[times, torch.arange(size)] = 1\n",
    "    spikes = spikes[1:]\n",
    "    #-------------------------------------------------------------------\n",
    "\n",
    "    return spikes.view(time, *shape)"
   ]
  }
 ]
}