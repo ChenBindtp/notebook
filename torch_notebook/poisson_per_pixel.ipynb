{
 "metadata": {
  "language_info": {
   "codemirror_mode": {
    "name": "ipython",
    "version": 3
   },
   "file_extension": ".py",
   "mimetype": "text/x-python",
   "name": "python",
   "nbconvert_exporter": "python",
   "pygments_lexer": "ipython3",
   "version": "3.8.3-final"
  },
  "orig_nbformat": 2,
  "kernelspec": {
   "name": "python_defaultSpec_1599279502252",
   "display_name": "Python 3.8.3 64-bit ('base': conda)"
  }
 },
 "nbformat": 4,
 "nbformat_minor": 2,
 "cells": [
  {
   "cell_type": "markdown",
   "metadata": {},
   "source": [
    "# 随机种子引起的问题\n",
    "1. pytorch中poisson在各像素并不是独立的随机种子，而是全局随机种子\n",
    "2. 与维度无关，按照转换为一维顺序进行随机量的获取"
   ]
  },
  {
   "cell_type": "code",
   "execution_count": 2,
   "metadata": {},
   "outputs": [
    {
     "output_type": "execute_result",
     "data": {
      "text/plain": "(tensor([2., 3., 0., 1.]), tensor([1., 0., 1., 1.]))"
     },
     "metadata": {},
     "execution_count": 2
    }
   ],
   "source": [
    "import torch\n",
    "torch.manual_seed(0)\n",
    "a = torch.poisson(torch.ones(4))\n",
    "b = torch.poisson(torch.ones(4)) # b是随机种子为0的条件下的，第4-7次随机量，所以与a的值不同\n",
    "a, b"
   ]
  },
  {
   "cell_type": "markdown",
   "metadata": {},
   "source": [
    "## 若想再次获得与a相同的值需要重置随机种子"
   ]
  },
  {
   "cell_type": "code",
   "execution_count": 3,
   "metadata": {},
   "outputs": [
    {
     "output_type": "execute_result",
     "data": {
      "text/plain": "tensor([2., 3., 0., 1.])"
     },
     "metadata": {},
     "execution_count": 3
    }
   ],
   "source": [
    "torch.manual_seed(0)\n",
    "c = torch.poisson(torch.ones(4))\n",
    "c"
   ]
  },
  {
   "cell_type": "markdown",
   "metadata": {},
   "source": [
    "## 对脉冲神经网络中泊松编码造成的影响"
   ]
  },
  {
   "cell_type": "code",
   "execution_count": 44,
   "metadata": {
    "tags": []
   },
   "outputs": [
    {
     "output_type": "stream",
     "name": "stdout",
     "text": "all_1: tensor([2., 3., 0., 1., 1., 0., 1.])\nall_2: tensor([6., 2., 1., 2., 2., 2., 1.])\ninput: tensor([2., 1., 2., 1., 0., 2., 2.])\noutput: tensor([6., 0., 2., 0., 0., 2., 2.])\nexpect_1: [[6, 3, 1, 1, 0, 2, 1]]\n"
    }
   ],
   "source": [
    "# torch.manual_seed(0)\n",
    "# print(torch.poisson(torch.ones(7)))\n",
    "# torch.manual_seed(0)\n",
    "# input = torch.tensor([1, 0, 1, 1, 0, 1, 1], dtype=torch.float)\n",
    "# print(\"input:\", input)\n",
    "# output = torch.poisson(input)\n",
    "# print(\"output:\", output)\n",
    "# print(\"expect:\", [[2, 0, 3, 0, 0, 1, 1]])\n",
    "\n",
    "torch.manual_seed(0)\n",
    "print(\"all_1:\", torch.poisson(torch.ones(7)))\n",
    "torch.manual_seed(0)\n",
    "print(\"all_2:\", torch.poisson(2 * torch.ones(7)))\n",
    "torch.manual_seed(0)\n",
    "input = torch.tensor([2, 1, 2, 1, 0, 2, 2], dtype=torch.float)\n",
    "print(\"input:\", input)\n",
    "output = torch.poisson(input)\n",
    "print(\"output:\", output)\n",
    "print(\"expect_1:\", [[6, 3, 1, 1, 0, 2, 1]])\n",
    "# print(\"expect_1:\", [[6, 3, 2, 1, 0, 2, 1]])"
   ]
  },
  {
   "cell_type": "markdown",
   "metadata": {},
   "source": [
    "# 综上实验可得\n",
    "在`pytorch.poisson`中，`非零数`相互影响随机种子次序"
   ]
  }
 ]
}