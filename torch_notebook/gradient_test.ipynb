{
 "metadata": {
  "language_info": {
   "codemirror_mode": {
    "name": "ipython",
    "version": 3
   },
   "file_extension": ".py",
   "mimetype": "text/x-python",
   "name": "python",
   "nbconvert_exporter": "python",
   "pygments_lexer": "ipython3",
   "version": "3.8.3-final"
  },
  "orig_nbformat": 2,
  "kernelspec": {
   "name": "python_defaultSpec_1600155535020",
   "display_name": "Python 3.8.3 64-bit ('base': conda)"
  }
 },
 "nbformat": 4,
 "nbformat_minor": 2,
 "cells": [
  {
   "cell_type": "code",
   "execution_count": 2,
   "metadata": {},
   "outputs": [],
   "source": [
    "import torch"
   ]
  },
  {
   "cell_type": "code",
   "execution_count": 2,
   "metadata": {},
   "outputs": [],
   "source": [
    "a=torch.ones(1,1,2,2)\n",
    "kernel = torch.ones(1,1,2,2, requires_grad=True)\n",
    "c = torch.nn.functional.conv2d(a, kernel, padding=1, stride=1)\n",
    "out = c.mean()\n",
    "out.backward()"
   ]
  },
  {
   "cell_type": "code",
   "execution_count": 4,
   "metadata": {
    "tags": []
   },
   "outputs": [
    {
     "output_type": "stream",
     "name": "stdout",
     "text": "tensor(1.7778, grad_fn=<MeanBackward0>)\ntensor([[[[0.4444, 0.4444],\n          [0.4444, 0.4444]]]])\n"
    }
   ],
   "source": [
    "print(out)\n",
    "print(kernel.grad)"
   ]
  },
  {
   "cell_type": "code",
   "execution_count": 3,
   "metadata": {},
   "outputs": [],
   "source": [
    "a = torch.tensor([1,2,3,4], dtype=torch.float).view(1,1,1,4)\n",
    "a1 = torch.tensor([1,2], dtype=torch.float).view(1,1,1,2)\n",
    "kernel = torch.ones(1,1,1,2, requires_grad=True)\n",
    "c = torch.nn.functional.conv1d(a, kernel, stride=1)\n",
    "b = torch.nn.functional.conv1d(a1, kernel, stride=1)\n",
    "out = (c+b).mean()\n",
    "out.backward()"
   ]
  },
  {
   "cell_type": "code",
   "execution_count": 4,
   "metadata": {
    "tags": []
   },
   "outputs": [
    {
     "output_type": "stream",
     "name": "stdout",
     "text": "tensor([[[[3., 5., 7.]]]], grad_fn=<MkldnnConvolutionBackward>) tensor([[[[3.]]]], grad_fn=<MkldnnConvolutionBackward>)\ntensor(8., grad_fn=<MeanBackward0>)\ntensor([[[[3., 5.]]]])\n"
    }
   ],
   "source": [
    "print(c, b)\n",
    "print(out)\n",
    "print(kernel.grad)"
   ]
  },
  {
   "cell_type": "code",
   "execution_count": null,
   "metadata": {},
   "outputs": [],
   "source": []
  }
 ]
}