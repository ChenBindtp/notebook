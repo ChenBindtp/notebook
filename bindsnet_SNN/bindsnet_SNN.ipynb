{
  "nbformat": 4,
  "nbformat_minor": 0,
  "metadata": {
    "colab": {
      "name": "bindsnet_SNN.ipynb",
      "provenance": [],
      "collapsed_sections": [
        "dn5WLpyO4XjL"
      ],
      "toc_visible": true
    },
    "kernelspec": {
      "name": "python3",
      "display_name": "Python 3"
    },
    "widgets": {
      "application/vnd.jupyter.widget-state+json": {
        "5bf7ba4513b24852847c869fa64e740d": {
          "model_module": "@jupyter-widgets/controls",
          "model_name": "HBoxModel",
          "state": {
            "_view_name": "HBoxView",
            "_dom_classes": [],
            "_model_name": "HBoxModel",
            "_view_module": "@jupyter-widgets/controls",
            "_model_module_version": "1.5.0",
            "_view_count": null,
            "_view_module_version": "1.5.0",
            "box_style": "",
            "layout": "IPY_MODEL_f834c707b29a4db6be513ab62937e004",
            "_model_module": "@jupyter-widgets/controls",
            "children": [
              "IPY_MODEL_8af236b1037a420c94fa82593758f188",
              "IPY_MODEL_07b5033d433348ad9792b148039bb5f3"
            ]
          }
        },
        "f834c707b29a4db6be513ab62937e004": {
          "model_module": "@jupyter-widgets/base",
          "model_name": "LayoutModel",
          "state": {
            "_view_name": "LayoutView",
            "grid_template_rows": null,
            "right": null,
            "justify_content": null,
            "_view_module": "@jupyter-widgets/base",
            "overflow": null,
            "_model_module_version": "1.2.0",
            "_view_count": null,
            "flex_flow": null,
            "width": null,
            "min_width": null,
            "border": null,
            "align_items": null,
            "bottom": null,
            "_model_module": "@jupyter-widgets/base",
            "top": null,
            "grid_column": null,
            "overflow_y": null,
            "overflow_x": null,
            "grid_auto_flow": null,
            "grid_area": null,
            "grid_template_columns": null,
            "flex": null,
            "_model_name": "LayoutModel",
            "justify_items": null,
            "grid_row": null,
            "max_height": null,
            "align_content": null,
            "visibility": null,
            "align_self": null,
            "height": null,
            "min_height": null,
            "padding": null,
            "grid_auto_rows": null,
            "grid_gap": null,
            "max_width": null,
            "order": null,
            "_view_module_version": "1.2.0",
            "grid_template_areas": null,
            "object_position": null,
            "object_fit": null,
            "grid_auto_columns": null,
            "margin": null,
            "display": null,
            "left": null
          }
        },
        "8af236b1037a420c94fa82593758f188": {
          "model_module": "@jupyter-widgets/controls",
          "model_name": "FloatProgressModel",
          "state": {
            "_view_name": "ProgressView",
            "style": "IPY_MODEL_124adfabc7fd4efa94e873f8bf49822d",
            "_dom_classes": [],
            "description": "",
            "_model_name": "FloatProgressModel",
            "bar_style": "success",
            "max": 1,
            "_view_module": "@jupyter-widgets/controls",
            "_model_module_version": "1.5.0",
            "value": 1,
            "_view_count": null,
            "_view_module_version": "1.5.0",
            "orientation": "horizontal",
            "min": 0,
            "description_tooltip": null,
            "_model_module": "@jupyter-widgets/controls",
            "layout": "IPY_MODEL_7bf2c2556e624e9cb84a872fe666d2b6"
          }
        },
        "07b5033d433348ad9792b148039bb5f3": {
          "model_module": "@jupyter-widgets/controls",
          "model_name": "HTMLModel",
          "state": {
            "_view_name": "HTMLView",
            "style": "IPY_MODEL_fafbdc54e43b4d19aa8257ba6815b843",
            "_dom_classes": [],
            "description": "",
            "_model_name": "HTMLModel",
            "placeholder": "​",
            "_view_module": "@jupyter-widgets/controls",
            "_model_module_version": "1.5.0",
            "value": " 9920512/? [00:01&lt;00:00, 8512200.14it/s]",
            "_view_count": null,
            "_view_module_version": "1.5.0",
            "description_tooltip": null,
            "_model_module": "@jupyter-widgets/controls",
            "layout": "IPY_MODEL_1e74f3a632594482b6dbbc93faffe6ff"
          }
        },
        "124adfabc7fd4efa94e873f8bf49822d": {
          "model_module": "@jupyter-widgets/controls",
          "model_name": "ProgressStyleModel",
          "state": {
            "_view_name": "StyleView",
            "_model_name": "ProgressStyleModel",
            "description_width": "initial",
            "_view_module": "@jupyter-widgets/base",
            "_model_module_version": "1.5.0",
            "_view_count": null,
            "_view_module_version": "1.2.0",
            "bar_color": null,
            "_model_module": "@jupyter-widgets/controls"
          }
        },
        "7bf2c2556e624e9cb84a872fe666d2b6": {
          "model_module": "@jupyter-widgets/base",
          "model_name": "LayoutModel",
          "state": {
            "_view_name": "LayoutView",
            "grid_template_rows": null,
            "right": null,
            "justify_content": null,
            "_view_module": "@jupyter-widgets/base",
            "overflow": null,
            "_model_module_version": "1.2.0",
            "_view_count": null,
            "flex_flow": null,
            "width": null,
            "min_width": null,
            "border": null,
            "align_items": null,
            "bottom": null,
            "_model_module": "@jupyter-widgets/base",
            "top": null,
            "grid_column": null,
            "overflow_y": null,
            "overflow_x": null,
            "grid_auto_flow": null,
            "grid_area": null,
            "grid_template_columns": null,
            "flex": null,
            "_model_name": "LayoutModel",
            "justify_items": null,
            "grid_row": null,
            "max_height": null,
            "align_content": null,
            "visibility": null,
            "align_self": null,
            "height": null,
            "min_height": null,
            "padding": null,
            "grid_auto_rows": null,
            "grid_gap": null,
            "max_width": null,
            "order": null,
            "_view_module_version": "1.2.0",
            "grid_template_areas": null,
            "object_position": null,
            "object_fit": null,
            "grid_auto_columns": null,
            "margin": null,
            "display": null,
            "left": null
          }
        },
        "fafbdc54e43b4d19aa8257ba6815b843": {
          "model_module": "@jupyter-widgets/controls",
          "model_name": "DescriptionStyleModel",
          "state": {
            "_view_name": "StyleView",
            "_model_name": "DescriptionStyleModel",
            "description_width": "",
            "_view_module": "@jupyter-widgets/base",
            "_model_module_version": "1.5.0",
            "_view_count": null,
            "_view_module_version": "1.2.0",
            "_model_module": "@jupyter-widgets/controls"
          }
        },
        "1e74f3a632594482b6dbbc93faffe6ff": {
          "model_module": "@jupyter-widgets/base",
          "model_name": "LayoutModel",
          "state": {
            "_view_name": "LayoutView",
            "grid_template_rows": null,
            "right": null,
            "justify_content": null,
            "_view_module": "@jupyter-widgets/base",
            "overflow": null,
            "_model_module_version": "1.2.0",
            "_view_count": null,
            "flex_flow": null,
            "width": null,
            "min_width": null,
            "border": null,
            "align_items": null,
            "bottom": null,
            "_model_module": "@jupyter-widgets/base",
            "top": null,
            "grid_column": null,
            "overflow_y": null,
            "overflow_x": null,
            "grid_auto_flow": null,
            "grid_area": null,
            "grid_template_columns": null,
            "flex": null,
            "_model_name": "LayoutModel",
            "justify_items": null,
            "grid_row": null,
            "max_height": null,
            "align_content": null,
            "visibility": null,
            "align_self": null,
            "height": null,
            "min_height": null,
            "padding": null,
            "grid_auto_rows": null,
            "grid_gap": null,
            "max_width": null,
            "order": null,
            "_view_module_version": "1.2.0",
            "grid_template_areas": null,
            "object_position": null,
            "object_fit": null,
            "grid_auto_columns": null,
            "margin": null,
            "display": null,
            "left": null
          }
        },
        "95240480d64748abb4c7c235ea5d6795": {
          "model_module": "@jupyter-widgets/controls",
          "model_name": "HBoxModel",
          "state": {
            "_view_name": "HBoxView",
            "_dom_classes": [],
            "_model_name": "HBoxModel",
            "_view_module": "@jupyter-widgets/controls",
            "_model_module_version": "1.5.0",
            "_view_count": null,
            "_view_module_version": "1.5.0",
            "box_style": "",
            "layout": "IPY_MODEL_62c34685ffaf414cbf9687621e7ce9f7",
            "_model_module": "@jupyter-widgets/controls",
            "children": [
              "IPY_MODEL_d8f92730ba0a4d49916028fa702e62f7",
              "IPY_MODEL_48d370c78b7c4e4f8d30f89e45f765ec"
            ]
          }
        },
        "62c34685ffaf414cbf9687621e7ce9f7": {
          "model_module": "@jupyter-widgets/base",
          "model_name": "LayoutModel",
          "state": {
            "_view_name": "LayoutView",
            "grid_template_rows": null,
            "right": null,
            "justify_content": null,
            "_view_module": "@jupyter-widgets/base",
            "overflow": null,
            "_model_module_version": "1.2.0",
            "_view_count": null,
            "flex_flow": null,
            "width": null,
            "min_width": null,
            "border": null,
            "align_items": null,
            "bottom": null,
            "_model_module": "@jupyter-widgets/base",
            "top": null,
            "grid_column": null,
            "overflow_y": null,
            "overflow_x": null,
            "grid_auto_flow": null,
            "grid_area": null,
            "grid_template_columns": null,
            "flex": null,
            "_model_name": "LayoutModel",
            "justify_items": null,
            "grid_row": null,
            "max_height": null,
            "align_content": null,
            "visibility": null,
            "align_self": null,
            "height": null,
            "min_height": null,
            "padding": null,
            "grid_auto_rows": null,
            "grid_gap": null,
            "max_width": null,
            "order": null,
            "_view_module_version": "1.2.0",
            "grid_template_areas": null,
            "object_position": null,
            "object_fit": null,
            "grid_auto_columns": null,
            "margin": null,
            "display": null,
            "left": null
          }
        },
        "d8f92730ba0a4d49916028fa702e62f7": {
          "model_module": "@jupyter-widgets/controls",
          "model_name": "FloatProgressModel",
          "state": {
            "_view_name": "ProgressView",
            "style": "IPY_MODEL_72e8c483eb2f4146b4e1bc41b186c9b9",
            "_dom_classes": [],
            "description": "",
            "_model_name": "FloatProgressModel",
            "bar_style": "success",
            "max": 1,
            "_view_module": "@jupyter-widgets/controls",
            "_model_module_version": "1.5.0",
            "value": 1,
            "_view_count": null,
            "_view_module_version": "1.5.0",
            "orientation": "horizontal",
            "min": 0,
            "description_tooltip": null,
            "_model_module": "@jupyter-widgets/controls",
            "layout": "IPY_MODEL_f970e9d7ea6f47a9934de37d39235152"
          }
        },
        "48d370c78b7c4e4f8d30f89e45f765ec": {
          "model_module": "@jupyter-widgets/controls",
          "model_name": "HTMLModel",
          "state": {
            "_view_name": "HTMLView",
            "style": "IPY_MODEL_ac8ed083d1394b6eaebaaf376d50cb94",
            "_dom_classes": [],
            "description": "",
            "_model_name": "HTMLModel",
            "placeholder": "​",
            "_view_module": "@jupyter-widgets/controls",
            "_model_module_version": "1.5.0",
            "value": " 32768/? [00:04&lt;00:00, 8065.34it/s]",
            "_view_count": null,
            "_view_module_version": "1.5.0",
            "description_tooltip": null,
            "_model_module": "@jupyter-widgets/controls",
            "layout": "IPY_MODEL_bafe9427a7b143d6b00784db64e981b1"
          }
        },
        "72e8c483eb2f4146b4e1bc41b186c9b9": {
          "model_module": "@jupyter-widgets/controls",
          "model_name": "ProgressStyleModel",
          "state": {
            "_view_name": "StyleView",
            "_model_name": "ProgressStyleModel",
            "description_width": "initial",
            "_view_module": "@jupyter-widgets/base",
            "_model_module_version": "1.5.0",
            "_view_count": null,
            "_view_module_version": "1.2.0",
            "bar_color": null,
            "_model_module": "@jupyter-widgets/controls"
          }
        },
        "f970e9d7ea6f47a9934de37d39235152": {
          "model_module": "@jupyter-widgets/base",
          "model_name": "LayoutModel",
          "state": {
            "_view_name": "LayoutView",
            "grid_template_rows": null,
            "right": null,
            "justify_content": null,
            "_view_module": "@jupyter-widgets/base",
            "overflow": null,
            "_model_module_version": "1.2.0",
            "_view_count": null,
            "flex_flow": null,
            "width": null,
            "min_width": null,
            "border": null,
            "align_items": null,
            "bottom": null,
            "_model_module": "@jupyter-widgets/base",
            "top": null,
            "grid_column": null,
            "overflow_y": null,
            "overflow_x": null,
            "grid_auto_flow": null,
            "grid_area": null,
            "grid_template_columns": null,
            "flex": null,
            "_model_name": "LayoutModel",
            "justify_items": null,
            "grid_row": null,
            "max_height": null,
            "align_content": null,
            "visibility": null,
            "align_self": null,
            "height": null,
            "min_height": null,
            "padding": null,
            "grid_auto_rows": null,
            "grid_gap": null,
            "max_width": null,
            "order": null,
            "_view_module_version": "1.2.0",
            "grid_template_areas": null,
            "object_position": null,
            "object_fit": null,
            "grid_auto_columns": null,
            "margin": null,
            "display": null,
            "left": null
          }
        },
        "ac8ed083d1394b6eaebaaf376d50cb94": {
          "model_module": "@jupyter-widgets/controls",
          "model_name": "DescriptionStyleModel",
          "state": {
            "_view_name": "StyleView",
            "_model_name": "DescriptionStyleModel",
            "description_width": "",
            "_view_module": "@jupyter-widgets/base",
            "_model_module_version": "1.5.0",
            "_view_count": null,
            "_view_module_version": "1.2.0",
            "_model_module": "@jupyter-widgets/controls"
          }
        },
        "bafe9427a7b143d6b00784db64e981b1": {
          "model_module": "@jupyter-widgets/base",
          "model_name": "LayoutModel",
          "state": {
            "_view_name": "LayoutView",
            "grid_template_rows": null,
            "right": null,
            "justify_content": null,
            "_view_module": "@jupyter-widgets/base",
            "overflow": null,
            "_model_module_version": "1.2.0",
            "_view_count": null,
            "flex_flow": null,
            "width": null,
            "min_width": null,
            "border": null,
            "align_items": null,
            "bottom": null,
            "_model_module": "@jupyter-widgets/base",
            "top": null,
            "grid_column": null,
            "overflow_y": null,
            "overflow_x": null,
            "grid_auto_flow": null,
            "grid_area": null,
            "grid_template_columns": null,
            "flex": null,
            "_model_name": "LayoutModel",
            "justify_items": null,
            "grid_row": null,
            "max_height": null,
            "align_content": null,
            "visibility": null,
            "align_self": null,
            "height": null,
            "min_height": null,
            "padding": null,
            "grid_auto_rows": null,
            "grid_gap": null,
            "max_width": null,
            "order": null,
            "_view_module_version": "1.2.0",
            "grid_template_areas": null,
            "object_position": null,
            "object_fit": null,
            "grid_auto_columns": null,
            "margin": null,
            "display": null,
            "left": null
          }
        },
        "379eb575a709434fbb29642ec1133de1": {
          "model_module": "@jupyter-widgets/controls",
          "model_name": "HBoxModel",
          "state": {
            "_view_name": "HBoxView",
            "_dom_classes": [],
            "_model_name": "HBoxModel",
            "_view_module": "@jupyter-widgets/controls",
            "_model_module_version": "1.5.0",
            "_view_count": null,
            "_view_module_version": "1.5.0",
            "box_style": "",
            "layout": "IPY_MODEL_2fffcb12d7204cfcbfdb237ced46a002",
            "_model_module": "@jupyter-widgets/controls",
            "children": [
              "IPY_MODEL_6f7d711dd655483990e076a2b150ec00",
              "IPY_MODEL_5af5aeef0afb4eb8b5ac8348fd647e43"
            ]
          }
        },
        "2fffcb12d7204cfcbfdb237ced46a002": {
          "model_module": "@jupyter-widgets/base",
          "model_name": "LayoutModel",
          "state": {
            "_view_name": "LayoutView",
            "grid_template_rows": null,
            "right": null,
            "justify_content": null,
            "_view_module": "@jupyter-widgets/base",
            "overflow": null,
            "_model_module_version": "1.2.0",
            "_view_count": null,
            "flex_flow": null,
            "width": null,
            "min_width": null,
            "border": null,
            "align_items": null,
            "bottom": null,
            "_model_module": "@jupyter-widgets/base",
            "top": null,
            "grid_column": null,
            "overflow_y": null,
            "overflow_x": null,
            "grid_auto_flow": null,
            "grid_area": null,
            "grid_template_columns": null,
            "flex": null,
            "_model_name": "LayoutModel",
            "justify_items": null,
            "grid_row": null,
            "max_height": null,
            "align_content": null,
            "visibility": null,
            "align_self": null,
            "height": null,
            "min_height": null,
            "padding": null,
            "grid_auto_rows": null,
            "grid_gap": null,
            "max_width": null,
            "order": null,
            "_view_module_version": "1.2.0",
            "grid_template_areas": null,
            "object_position": null,
            "object_fit": null,
            "grid_auto_columns": null,
            "margin": null,
            "display": null,
            "left": null
          }
        },
        "6f7d711dd655483990e076a2b150ec00": {
          "model_module": "@jupyter-widgets/controls",
          "model_name": "FloatProgressModel",
          "state": {
            "_view_name": "ProgressView",
            "style": "IPY_MODEL_c3c4f197649d4338870f1a6b5b84acd2",
            "_dom_classes": [],
            "description": "",
            "_model_name": "FloatProgressModel",
            "bar_style": "success",
            "max": 1,
            "_view_module": "@jupyter-widgets/controls",
            "_model_module_version": "1.5.0",
            "value": 1,
            "_view_count": null,
            "_view_module_version": "1.5.0",
            "orientation": "horizontal",
            "min": 0,
            "description_tooltip": null,
            "_model_module": "@jupyter-widgets/controls",
            "layout": "IPY_MODEL_09edb98870244aa7bdf9da39fdb47450"
          }
        },
        "5af5aeef0afb4eb8b5ac8348fd647e43": {
          "model_module": "@jupyter-widgets/controls",
          "model_name": "HTMLModel",
          "state": {
            "_view_name": "HTMLView",
            "style": "IPY_MODEL_3d9b85297929488b9b8a044152218169",
            "_dom_classes": [],
            "description": "",
            "_model_name": "HTMLModel",
            "placeholder": "​",
            "_view_module": "@jupyter-widgets/controls",
            "_model_module_version": "1.5.0",
            "value": " 1654784/? [00:03&lt;00:00, 439708.66it/s]",
            "_view_count": null,
            "_view_module_version": "1.5.0",
            "description_tooltip": null,
            "_model_module": "@jupyter-widgets/controls",
            "layout": "IPY_MODEL_94e67eb1e5f94384bd4235d497689494"
          }
        },
        "c3c4f197649d4338870f1a6b5b84acd2": {
          "model_module": "@jupyter-widgets/controls",
          "model_name": "ProgressStyleModel",
          "state": {
            "_view_name": "StyleView",
            "_model_name": "ProgressStyleModel",
            "description_width": "initial",
            "_view_module": "@jupyter-widgets/base",
            "_model_module_version": "1.5.0",
            "_view_count": null,
            "_view_module_version": "1.2.0",
            "bar_color": null,
            "_model_module": "@jupyter-widgets/controls"
          }
        },
        "09edb98870244aa7bdf9da39fdb47450": {
          "model_module": "@jupyter-widgets/base",
          "model_name": "LayoutModel",
          "state": {
            "_view_name": "LayoutView",
            "grid_template_rows": null,
            "right": null,
            "justify_content": null,
            "_view_module": "@jupyter-widgets/base",
            "overflow": null,
            "_model_module_version": "1.2.0",
            "_view_count": null,
            "flex_flow": null,
            "width": null,
            "min_width": null,
            "border": null,
            "align_items": null,
            "bottom": null,
            "_model_module": "@jupyter-widgets/base",
            "top": null,
            "grid_column": null,
            "overflow_y": null,
            "overflow_x": null,
            "grid_auto_flow": null,
            "grid_area": null,
            "grid_template_columns": null,
            "flex": null,
            "_model_name": "LayoutModel",
            "justify_items": null,
            "grid_row": null,
            "max_height": null,
            "align_content": null,
            "visibility": null,
            "align_self": null,
            "height": null,
            "min_height": null,
            "padding": null,
            "grid_auto_rows": null,
            "grid_gap": null,
            "max_width": null,
            "order": null,
            "_view_module_version": "1.2.0",
            "grid_template_areas": null,
            "object_position": null,
            "object_fit": null,
            "grid_auto_columns": null,
            "margin": null,
            "display": null,
            "left": null
          }
        },
        "3d9b85297929488b9b8a044152218169": {
          "model_module": "@jupyter-widgets/controls",
          "model_name": "DescriptionStyleModel",
          "state": {
            "_view_name": "StyleView",
            "_model_name": "DescriptionStyleModel",
            "description_width": "",
            "_view_module": "@jupyter-widgets/base",
            "_model_module_version": "1.5.0",
            "_view_count": null,
            "_view_module_version": "1.2.0",
            "_model_module": "@jupyter-widgets/controls"
          }
        },
        "94e67eb1e5f94384bd4235d497689494": {
          "model_module": "@jupyter-widgets/base",
          "model_name": "LayoutModel",
          "state": {
            "_view_name": "LayoutView",
            "grid_template_rows": null,
            "right": null,
            "justify_content": null,
            "_view_module": "@jupyter-widgets/base",
            "overflow": null,
            "_model_module_version": "1.2.0",
            "_view_count": null,
            "flex_flow": null,
            "width": null,
            "min_width": null,
            "border": null,
            "align_items": null,
            "bottom": null,
            "_model_module": "@jupyter-widgets/base",
            "top": null,
            "grid_column": null,
            "overflow_y": null,
            "overflow_x": null,
            "grid_auto_flow": null,
            "grid_area": null,
            "grid_template_columns": null,
            "flex": null,
            "_model_name": "LayoutModel",
            "justify_items": null,
            "grid_row": null,
            "max_height": null,
            "align_content": null,
            "visibility": null,
            "align_self": null,
            "height": null,
            "min_height": null,
            "padding": null,
            "grid_auto_rows": null,
            "grid_gap": null,
            "max_width": null,
            "order": null,
            "_view_module_version": "1.2.0",
            "grid_template_areas": null,
            "object_position": null,
            "object_fit": null,
            "grid_auto_columns": null,
            "margin": null,
            "display": null,
            "left": null
          }
        },
        "46a8416993604fab8845023ac9977621": {
          "model_module": "@jupyter-widgets/controls",
          "model_name": "HBoxModel",
          "state": {
            "_view_name": "HBoxView",
            "_dom_classes": [],
            "_model_name": "HBoxModel",
            "_view_module": "@jupyter-widgets/controls",
            "_model_module_version": "1.5.0",
            "_view_count": null,
            "_view_module_version": "1.5.0",
            "box_style": "",
            "layout": "IPY_MODEL_43ef674af381400cb174fe83ba0be703",
            "_model_module": "@jupyter-widgets/controls",
            "children": [
              "IPY_MODEL_fd928ee74a454e6ba101fbdcb46c4579",
              "IPY_MODEL_0c1799f19fed4bde98ea5f5e46a7c492"
            ]
          }
        },
        "43ef674af381400cb174fe83ba0be703": {
          "model_module": "@jupyter-widgets/base",
          "model_name": "LayoutModel",
          "state": {
            "_view_name": "LayoutView",
            "grid_template_rows": null,
            "right": null,
            "justify_content": null,
            "_view_module": "@jupyter-widgets/base",
            "overflow": null,
            "_model_module_version": "1.2.0",
            "_view_count": null,
            "flex_flow": null,
            "width": null,
            "min_width": null,
            "border": null,
            "align_items": null,
            "bottom": null,
            "_model_module": "@jupyter-widgets/base",
            "top": null,
            "grid_column": null,
            "overflow_y": null,
            "overflow_x": null,
            "grid_auto_flow": null,
            "grid_area": null,
            "grid_template_columns": null,
            "flex": null,
            "_model_name": "LayoutModel",
            "justify_items": null,
            "grid_row": null,
            "max_height": null,
            "align_content": null,
            "visibility": null,
            "align_self": null,
            "height": null,
            "min_height": null,
            "padding": null,
            "grid_auto_rows": null,
            "grid_gap": null,
            "max_width": null,
            "order": null,
            "_view_module_version": "1.2.0",
            "grid_template_areas": null,
            "object_position": null,
            "object_fit": null,
            "grid_auto_columns": null,
            "margin": null,
            "display": null,
            "left": null
          }
        },
        "fd928ee74a454e6ba101fbdcb46c4579": {
          "model_module": "@jupyter-widgets/controls",
          "model_name": "FloatProgressModel",
          "state": {
            "_view_name": "ProgressView",
            "style": "IPY_MODEL_0eba8dc1a69240c1975fcef5e85dc2a2",
            "_dom_classes": [],
            "description": "",
            "_model_name": "FloatProgressModel",
            "bar_style": "success",
            "max": 1,
            "_view_module": "@jupyter-widgets/controls",
            "_model_module_version": "1.5.0",
            "value": 1,
            "_view_count": null,
            "_view_module_version": "1.5.0",
            "orientation": "horizontal",
            "min": 0,
            "description_tooltip": null,
            "_model_module": "@jupyter-widgets/controls",
            "layout": "IPY_MODEL_bc3c98590a204d08a852ed6d0c6974b0"
          }
        },
        "0c1799f19fed4bde98ea5f5e46a7c492": {
          "model_module": "@jupyter-widgets/controls",
          "model_name": "HTMLModel",
          "state": {
            "_view_name": "HTMLView",
            "style": "IPY_MODEL_6b8ed80bf28e46f8866fdef23c1075e0",
            "_dom_classes": [],
            "description": "",
            "_model_name": "HTMLModel",
            "placeholder": "​",
            "_view_module": "@jupyter-widgets/controls",
            "_model_module_version": "1.5.0",
            "value": " 8192/? [00:02&lt;00:00, 2758.75it/s]",
            "_view_count": null,
            "_view_module_version": "1.5.0",
            "description_tooltip": null,
            "_model_module": "@jupyter-widgets/controls",
            "layout": "IPY_MODEL_686bf919802341a981c8f15763375e30"
          }
        },
        "0eba8dc1a69240c1975fcef5e85dc2a2": {
          "model_module": "@jupyter-widgets/controls",
          "model_name": "ProgressStyleModel",
          "state": {
            "_view_name": "StyleView",
            "_model_name": "ProgressStyleModel",
            "description_width": "initial",
            "_view_module": "@jupyter-widgets/base",
            "_model_module_version": "1.5.0",
            "_view_count": null,
            "_view_module_version": "1.2.0",
            "bar_color": null,
            "_model_module": "@jupyter-widgets/controls"
          }
        },
        "bc3c98590a204d08a852ed6d0c6974b0": {
          "model_module": "@jupyter-widgets/base",
          "model_name": "LayoutModel",
          "state": {
            "_view_name": "LayoutView",
            "grid_template_rows": null,
            "right": null,
            "justify_content": null,
            "_view_module": "@jupyter-widgets/base",
            "overflow": null,
            "_model_module_version": "1.2.0",
            "_view_count": null,
            "flex_flow": null,
            "width": null,
            "min_width": null,
            "border": null,
            "align_items": null,
            "bottom": null,
            "_model_module": "@jupyter-widgets/base",
            "top": null,
            "grid_column": null,
            "overflow_y": null,
            "overflow_x": null,
            "grid_auto_flow": null,
            "grid_area": null,
            "grid_template_columns": null,
            "flex": null,
            "_model_name": "LayoutModel",
            "justify_items": null,
            "grid_row": null,
            "max_height": null,
            "align_content": null,
            "visibility": null,
            "align_self": null,
            "height": null,
            "min_height": null,
            "padding": null,
            "grid_auto_rows": null,
            "grid_gap": null,
            "max_width": null,
            "order": null,
            "_view_module_version": "1.2.0",
            "grid_template_areas": null,
            "object_position": null,
            "object_fit": null,
            "grid_auto_columns": null,
            "margin": null,
            "display": null,
            "left": null
          }
        },
        "6b8ed80bf28e46f8866fdef23c1075e0": {
          "model_module": "@jupyter-widgets/controls",
          "model_name": "DescriptionStyleModel",
          "state": {
            "_view_name": "StyleView",
            "_model_name": "DescriptionStyleModel",
            "description_width": "",
            "_view_module": "@jupyter-widgets/base",
            "_model_module_version": "1.5.0",
            "_view_count": null,
            "_view_module_version": "1.2.0",
            "_model_module": "@jupyter-widgets/controls"
          }
        },
        "686bf919802341a981c8f15763375e30": {
          "model_module": "@jupyter-widgets/base",
          "model_name": "LayoutModel",
          "state": {
            "_view_name": "LayoutView",
            "grid_template_rows": null,
            "right": null,
            "justify_content": null,
            "_view_module": "@jupyter-widgets/base",
            "overflow": null,
            "_model_module_version": "1.2.0",
            "_view_count": null,
            "flex_flow": null,
            "width": null,
            "min_width": null,
            "border": null,
            "align_items": null,
            "bottom": null,
            "_model_module": "@jupyter-widgets/base",
            "top": null,
            "grid_column": null,
            "overflow_y": null,
            "overflow_x": null,
            "grid_auto_flow": null,
            "grid_area": null,
            "grid_template_columns": null,
            "flex": null,
            "_model_name": "LayoutModel",
            "justify_items": null,
            "grid_row": null,
            "max_height": null,
            "align_content": null,
            "visibility": null,
            "align_self": null,
            "height": null,
            "min_height": null,
            "padding": null,
            "grid_auto_rows": null,
            "grid_gap": null,
            "max_width": null,
            "order": null,
            "_view_module_version": "1.2.0",
            "grid_template_areas": null,
            "object_position": null,
            "object_fit": null,
            "grid_auto_columns": null,
            "margin": null,
            "display": null,
            "left": null
          }
        }
      }
    }
  },
  "cells": [
    {
      "cell_type": "markdown",
      "metadata": {
        "id": "dn5WLpyO4XjL",
        "colab_type": "text"
      },
      "source": [
        "# bindsnet安装"
      ]
    },
    {
      "cell_type": "code",
      "metadata": {
        "id": "90iJpeUC4LT4",
        "colab_type": "code",
        "colab": {
          "base_uri": "https://localhost:8080/",
          "height": 0
        },
        "outputId": "e916991b-2be7-4df3-d7d0-4d0f224e88ec"
      },
      "source": [
        "# !nvidia-smi\n",
        "!pip install bindsnet\n",
        "import torch\n",
        "print(torch.__version__)"
      ],
      "execution_count": 1,
      "outputs": [
        {
          "output_type": "stream",
          "text": [
            "Collecting bindsnet\n",
            "......\n",
            "Successfully installed bindsnet-0.2.7 tensorboardX-2.1\n",
            "1.6.0+cu101\n"
          ],
          "name": "stdout"
        }
      ]
    },
    {
      "cell_type": "markdown",
      "metadata": {
        "id": "I8-KrW5C4c3K",
        "colab_type": "text"
      },
      "source": [
        "# 定义网络"
      ]
    },
    {
      "cell_type": "code",
      "metadata": {
        "id": "t3oJqyPtuj9X",
        "colab_type": "code",
        "colab": {
          "base_uri": "https://localhost:8080/",
          "height": 357,
          "referenced_widgets": [
            "5bf7ba4513b24852847c869fa64e740d",
            "f834c707b29a4db6be513ab62937e004",
            "8af236b1037a420c94fa82593758f188",
            "07b5033d433348ad9792b148039bb5f3",
            "124adfabc7fd4efa94e873f8bf49822d",
            "7bf2c2556e624e9cb84a872fe666d2b6",
            "fafbdc54e43b4d19aa8257ba6815b843",
            "1e74f3a632594482b6dbbc93faffe6ff",
            "95240480d64748abb4c7c235ea5d6795",
            "62c34685ffaf414cbf9687621e7ce9f7",
            "d8f92730ba0a4d49916028fa702e62f7",
            "48d370c78b7c4e4f8d30f89e45f765ec",
            "72e8c483eb2f4146b4e1bc41b186c9b9",
            "f970e9d7ea6f47a9934de37d39235152",
            "ac8ed083d1394b6eaebaaf376d50cb94",
            "bafe9427a7b143d6b00784db64e981b1",
            "379eb575a709434fbb29642ec1133de1",
            "2fffcb12d7204cfcbfdb237ced46a002",
            "6f7d711dd655483990e076a2b150ec00",
            "5af5aeef0afb4eb8b5ac8348fd647e43",
            "c3c4f197649d4338870f1a6b5b84acd2",
            "09edb98870244aa7bdf9da39fdb47450",
            "3d9b85297929488b9b8a044152218169",
            "94e67eb1e5f94384bd4235d497689494",
            "46a8416993604fab8845023ac9977621",
            "43ef674af381400cb174fe83ba0be703",
            "fd928ee74a454e6ba101fbdcb46c4579",
            "0c1799f19fed4bde98ea5f5e46a7c492",
            "0eba8dc1a69240c1975fcef5e85dc2a2",
            "bc3c98590a204d08a852ed6d0c6974b0",
            "6b8ed80bf28e46f8866fdef23c1075e0",
            "686bf919802341a981c8f15763375e30"
          ]
        },
        "outputId": "5c219e45-c364-49be-87d4-33e66cf5078e"
      },
      "source": [
        "import os\n",
        "import torch\n",
        "import argparse\n",
        "import numpy as np\n",
        "import matplotlib.pyplot as plt\n",
        "%matplotlib inline\n",
        "\n",
        "from torchvision import transforms\n",
        "from tqdm import tqdm\n",
        "\n",
        "from time import time as t\n",
        "\n",
        "from bindsnet.datasets import MNIST\n",
        "from bindsnet.encoding import PoissonEncoder\n",
        "from bindsnet.models import DiehlAndCook2015\n",
        "from bindsnet.network.monitors import Monitor\n",
        "from bindsnet.utils import get_square_weights, get_square_assignments\n",
        "from bindsnet.evaluation import all_activity, proportion_weighting, assign_labels\n",
        "from bindsnet.analysis.plotting import (\n",
        "    plot_input,\n",
        "    plot_spikes,\n",
        "    plot_weights,\n",
        "    plot_assignments,\n",
        "    plot_performance,\n",
        "    plot_voltages,\n",
        ")\n",
        "\n",
        "\n",
        "parser = argparse.ArgumentParser()\n",
        "parser.add_argument(\"--seed\", type=int, default=0)\n",
        "parser.add_argument(\"--n_neurons\", type=int, default=100)\n",
        "parser.add_argument(\"--n_epochs\", type=int, default=1)\n",
        "parser.add_argument(\"--n_test\", type=int, default=10000)\n",
        "parser.add_argument(\"--n_workers\", type=int, default=2)\n",
        "parser.add_argument(\"--exc\", type=float, default=22.5)\n",
        "parser.add_argument(\"--inh\", type=float, default=120)\n",
        "parser.add_argument(\"--theta_plus\", type=float, default=0.05)\n",
        "parser.add_argument(\"--time\", type=int, default=120)\n",
        "parser.add_argument(\"--dt\", type=int, default=1.0)\n",
        "parser.add_argument(\"--intensity\", type=float, default=64)\n",
        "parser.add_argument(\"--progress_interval\", type=int, default=10)\n",
        "parser.add_argument(\"--update_interval\", type=int, default=250)\n",
        "parser.add_argument(\"--train\", dest=\"train\", action=\"store_true\")\n",
        "parser.add_argument(\"--test\", dest=\"train\", action=\"store_false\")\n",
        "parser.add_argument(\"--plot\", dest=\"plot\", action=\"store_true\")\n",
        "parser.add_argument(\"--gpu\", dest=\"gpu\", action=\"store_true\")\n",
        "parser.add_argument(\"--checkpoint\", dest=\"checkpoint\", action=\"store_true\")\n",
        "parser.add_argument(\"--local\", dest=\"local\", action=\"store_true\")\n",
        "parser.set_defaults(plot=False, gpu=False, train=True, checkpoint=False, local=False)\n",
        "\n",
        "# args = parser.parse_args()\n",
        "args = parser.parse_args(args=[])\n",
        "\n",
        "seed = args.seed\n",
        "n_neurons = args.n_neurons\n",
        "n_neurons = 100\n",
        "n_epochs = args.n_epochs\n",
        "n_test = args.n_test\n",
        "n_workers = args.n_workers\n",
        "n_workers = 2\n",
        "exc = args.exc\n",
        "inh = args.inh\n",
        "theta_plus = args.theta_plus\n",
        "time = args.time\n",
        "dt = args.dt\n",
        "intensity = args.intensity\n",
        "if intensity > time:\n",
        "    raise Exception(\"time must greater than intensity\")\n",
        "progress_interval = args.progress_interval\n",
        "update_interval = args.update_interval\n",
        "update_interval = 300\n",
        "train = args.train\n",
        "plot = args.plot\n",
        "gpu = args.gpu\n",
        "checkpoint = args.checkpoint\n",
        "local = args.local\n",
        "\n",
        "# Sets up Gpu use\n",
        "if gpu and torch.cuda.is_available():\n",
        "    torch.cuda.manual_seed_all(seed)\n",
        "else:\n",
        "    torch.manual_seed(seed)\n",
        "    if gpu:\n",
        "        gpu = False\n",
        "\n",
        "# Determines number of workers to use\n",
        "if n_workers == -1:\n",
        "    n_workers = gpu * 4 * torch.cuda.device_count()\n",
        "\n",
        "if not train:\n",
        "    update_interval = n_test\n",
        "\n",
        "n_sqrt = int(np.ceil(np.sqrt(n_neurons)))\n",
        "start_intensity = intensity\n",
        "\n",
        "weight_dirc_path = \"weights/\" if local else \"drive/My Drive/SNN/\"\n",
        "weight_name = \"SNN_withou_batch\"\n",
        "\n",
        "# Build network.\n",
        "network = DiehlAndCook2015(\n",
        "    n_inpt=784,\n",
        "    n_neurons=n_neurons,\n",
        "    exc=exc,\n",
        "    inh=inh,\n",
        "    dt=dt,\n",
        "    norm=78.4,\n",
        "    theta_plus=theta_plus,\n",
        "    inpt_shape=(1, 28, 28),\n",
        ")\n",
        "\n",
        "# Directs network to GPU\n",
        "if gpu:\n",
        "    network.to(\"cuda\")\n",
        "\n",
        "# Load MNIST data.\n",
        "train_dataset = MNIST(\n",
        "    PoissonEncoder(time=time, dt=dt),\n",
        "    None,\n",
        "    # root=os.path.join(\"..\", \"..\", \"data\", \"MNIST\"),\n",
        "    root=\"data\" if local else os.path.join(\"..\", \"..\", \"data\", \"MNIST\"),\n",
        "    download=True,\n",
        "    train=True,\n",
        "    transform=transforms.Compose(\n",
        "        [transforms.ToTensor(), transforms.Lambda(lambda x: x * intensity)]\n",
        "    ),\n",
        ")\n",
        "\n",
        "# Record spikes during the simulation.\n",
        "spike_record = torch.zeros(update_interval, time, n_neurons)\n",
        "\n",
        "# Neuron assignments and spike proportions.\n",
        "n_classes = 10\n",
        "assignments = -torch.ones(n_neurons)\n",
        "proportions = torch.zeros(n_neurons, n_classes)\n",
        "rates = torch.zeros(n_neurons, n_classes)\n",
        "\n",
        "if checkpoint:\n",
        "  weights = torch.load(weight_dirc_path + weight_name + \".pth\")\n",
        "  network.load_state_dict(weights)\n",
        "#   assignments = weights[\"assignments\"]\n",
        "#   proportions = weights[\"proportions\"]\n",
        "#   rates = weights[\"rates\"]\n",
        "\n",
        "\n",
        "# Sequence of accuracy estimates.\n",
        "accuracy = {\"all\": [], \"proportion\": []}\n",
        "\n",
        "# Voltage recording for excitatory and inhibitory layers.\n",
        "exc_voltage_monitor = Monitor(network.layers[\"Ae\"], [\"v\"], time=time)\n",
        "inh_voltage_monitor = Monitor(network.layers[\"Ai\"], [\"v\"], time=time)\n",
        "network.add_monitor(exc_voltage_monitor, name=\"exc_voltage\")\n",
        "network.add_monitor(inh_voltage_monitor, name=\"inh_voltage\")\n",
        "\n",
        "# Set up monitors for spikes and voltages\n",
        "spikes = {}\n",
        "for layer in set(network.layers):\n",
        "    spikes[layer] = Monitor(network.layers[layer], state_vars=[\"s\"], time=time)\n",
        "    network.add_monitor(spikes[layer], name=\"%s_spikes\" % layer)\n",
        "\n",
        "voltages = {}\n",
        "for layer in set(network.layers) - {\"X\"}:\n",
        "    voltages[layer] = Monitor(network.layers[layer], state_vars=[\"v\"], time=time)\n",
        "    network.add_monitor(voltages[layer], name=\"%s_voltages\" % layer)\n",
        "\n",
        "inpt_ims, inpt_axes = None, None\n",
        "spike_ims, spike_axes = None, None\n",
        "weights_im = None\n",
        "assigns_im = None\n",
        "perf_ax = None\n",
        "voltage_axes, voltage_ims = None, None"
      ],
      "execution_count": 2,
      "outputs": [
        {
          "output_type": "stream",
          "text": [
            "Downloading http://yann.lecun.com/exdb/mnist/train-images-idx3-ubyte.gz to ../../data/MNIST/TorchvisionDatasetWrapper/raw/train-images-idx3-ubyte.gz\n"
          ],
          "name": "stdout"
        },
        {
          "output_type": "display_data",
          "data": {
            "application/vnd.jupyter.widget-view+json": {
              "model_id": "5bf7ba4513b24852847c869fa64e740d",
              "version_minor": 0,
              "version_major": 2
            },
            "text/plain": [
              "HBox(children=(FloatProgress(value=1.0, bar_style='info', max=1.0), HTML(value='')))"
            ]
          },
          "metadata": {
            "tags": []
          }
        },
        {
          "output_type": "stream",
          "text": [
            "Extracting ../../data/MNIST/TorchvisionDatasetWrapper/raw/train-images-idx3-ubyte.gz to ../../data/MNIST/TorchvisionDatasetWrapper/raw\n",
            "\n",
            "Downloading http://yann.lecun.com/exdb/mnist/train-labels-idx1-ubyte.gz to ../../data/MNIST/TorchvisionDatasetWrapper/raw/train-labels-idx1-ubyte.gz\n"
          ],
          "name": "stdout"
        },
        {
          "output_type": "display_data",
          "data": {
            "application/vnd.jupyter.widget-view+json": {
              "model_id": "95240480d64748abb4c7c235ea5d6795",
              "version_minor": 0,
              "version_major": 2
            },
            "text/plain": [
              "HBox(children=(FloatProgress(value=1.0, bar_style='info', max=1.0), HTML(value='')))"
            ]
          },
          "metadata": {
            "tags": []
          }
        },
        {
          "output_type": "stream",
          "text": [
            "Extracting ../../data/MNIST/TorchvisionDatasetWrapper/raw/train-labels-idx1-ubyte.gz to ../../data/MNIST/TorchvisionDatasetWrapper/raw\n",
            "Downloading http://yann.lecun.com/exdb/mnist/t10k-images-idx3-ubyte.gz to ../../data/MNIST/TorchvisionDatasetWrapper/raw/t10k-images-idx3-ubyte.gz\n"
          ],
          "name": "stdout"
        },
        {
          "output_type": "display_data",
          "data": {
            "application/vnd.jupyter.widget-view+json": {
              "model_id": "379eb575a709434fbb29642ec1133de1",
              "version_minor": 0,
              "version_major": 2
            },
            "text/plain": [
              "HBox(children=(FloatProgress(value=1.0, bar_style='info', max=1.0), HTML(value='')))"
            ]
          },
          "metadata": {
            "tags": []
          }
        },
        {
          "output_type": "stream",
          "text": [
            "Extracting ../../data/MNIST/TorchvisionDatasetWrapper/raw/t10k-images-idx3-ubyte.gz to ../../data/MNIST/TorchvisionDatasetWrapper/raw\n",
            "Downloading http://yann.lecun.com/exdb/mnist/t10k-labels-idx1-ubyte.gz to ../../data/MNIST/TorchvisionDatasetWrapper/raw/t10k-labels-idx1-ubyte.gz\n"
          ],
          "name": "stdout"
        },
        {
          "output_type": "display_data",
          "data": {
            "application/vnd.jupyter.widget-view+json": {
              "model_id": "46a8416993604fab8845023ac9977621",
              "version_minor": 0,
              "version_major": 2
            },
            "text/plain": [
              "HBox(children=(FloatProgress(value=1.0, bar_style='info', max=1.0), HTML(value='')))"
            ]
          },
          "metadata": {
            "tags": []
          }
        },
        {
          "output_type": "stream",
          "text": [
            "Extracting ../../data/MNIST/TorchvisionDatasetWrapper/raw/t10k-labels-idx1-ubyte.gz to ../../data/MNIST/TorchvisionDatasetWrapper/raw\n",
            "Processing...\n",
            "Done!\n"
          ],
          "name": "stdout"
        }
      ]
    },
    {
      "cell_type": "markdown",
      "metadata": {
        "id": "iv59I0Uo47MH",
        "colab_type": "text"
      },
      "source": [
        "# 训练网络"
      ]
    },
    {
      "cell_type": "code",
      "metadata": {
        "id": "bzAFZPzDvyAt",
        "colab_type": "code",
        "colab": {
          "base_uri": "https://localhost:8080/",
          "height": 1000
        },
        "outputId": "da2b4c22-68bd-4d71-f949-6f374559b784"
      },
      "source": [
        "# from IPython import display\n",
        "# Train the network.\n",
        "# print(\"Begin training.\")\n",
        "start = t()\n",
        "labels = []\n",
        "label_list = list(range(10))\n",
        "for epoch in range(n_epochs):\n",
        "\n",
        "    if epoch % progress_interval == 0:\n",
        "        print(\"Progress: %d / %d (%.4f seconds)\" % (epoch, n_epochs, t() - start))\n",
        "        start = t()\n",
        "\n",
        "    # Create a dataloader to iterate and batch data\n",
        "    dataloader = torch.utils.data.DataLoader(\n",
        "        train_dataset, batch_size=1, shuffle=True, num_workers=n_workers, pin_memory=gpu\n",
        "    )\n",
        "\n",
        "    for step, batch in enumerate(tqdm(dataloader)):\n",
        "        # Get next input sample.\n",
        "        inputs = {\"X\": batch[\"encoded_image\"].view(time, 1, 1, 28, 28)}\n",
        "        if gpu:\n",
        "            inputs = {k: v.cuda() for k, v in inputs.items()}\n",
        "\n",
        "        if step % update_interval == 0 and step > 0:\n",
        "            # Convert the array of labels into a tensor\n",
        "            label_tensor = torch.tensor(labels)\n",
        "\n",
        "            # Get network predictions.\n",
        "            all_activity_pred = all_activity(\n",
        "                spikes=spike_record, assignments=assignments, n_labels=n_classes\n",
        "            )\n",
        "            proportion_pred = proportion_weighting(\n",
        "                spikes=spike_record,\n",
        "                assignments=assignments,\n",
        "                proportions=proportions,\n",
        "                n_labels=n_classes,\n",
        "            )\n",
        "\n",
        "            # Compute network accuracy according to available classification strategies.\n",
        "            accuracy[\"all\"].append(\n",
        "                100\n",
        "                * torch.sum(label_tensor.long() == all_activity_pred).item()\n",
        "                / len(label_tensor)\n",
        "            )\n",
        "            accuracy[\"proportion\"].append(\n",
        "                100\n",
        "                * torch.sum(label_tensor.long() == proportion_pred).item()\n",
        "                / len(label_tensor)\n",
        "            )\n",
        "\n",
        "            print(\n",
        "                \"All activity accuracy: %.2f (last), %.2f (average), %.2f (best)\"\n",
        "                % (\n",
        "                    accuracy[\"all\"][-1],\n",
        "                    np.mean(accuracy[\"all\"]),\n",
        "                    np.max(accuracy[\"all\"]),\n",
        "                )\n",
        "            )\n",
        "            print(\n",
        "                \"Proportion weighting accuracy: %.2f (last), %.2f (average), %.2f (best)\"\n",
        "                % (\n",
        "                    accuracy[\"proportion\"][-1],\n",
        "                    np.mean(accuracy[\"proportion\"]),\n",
        "                    np.max(accuracy[\"proportion\"]),\n",
        "                )\n",
        "            )\n",
        "\n",
        "            # Assign labels to excitatory layer neurons.\n",
        "            assignments, proportions, rates = assign_labels(\n",
        "                spikes=spike_record,\n",
        "                labels=label_tensor,\n",
        "                n_labels=n_classes,\n",
        "                # rates=rates, # by lwk\n",
        "            )\n",
        "\n",
        "            labels = []\n",
        "\n",
        "        labels.append(batch[\"label\"])\n",
        "\n",
        "        # Run the network on the input.\n",
        "        network.run(inputs=inputs, time=time, input_time_dim=1)\n",
        "\n",
        "        # Get voltage recording.\n",
        "        exc_voltages = exc_voltage_monitor.get(\"v\")\n",
        "        inh_voltages = inh_voltage_monitor.get(\"v\")\n",
        "\n",
        "        # Add to spikes recording.\n",
        "        spike_record[step % update_interval] = spikes[\"Ae\"].get(\"s\").squeeze()\n",
        "\n",
        "        # Optionally plot various simulation information.\n",
        "        if step % 6000 == 0 and step > 0:\n",
        "            plot = True\n",
        "        else:\n",
        "            plot = False\n",
        "        if plot:\n",
        "            # display.clear_output(wait=True)\n",
        "            image = batch[\"image\"].view(28, 28)\n",
        "            inpt = inputs[\"X\"].view(time, 784).sum(0).view(28, 28)\n",
        "            input_exc_weights = network.connections[(\"X\", \"Ae\")].w\n",
        "            square_weights = get_square_weights(\n",
        "                input_exc_weights.view(784, n_neurons), n_sqrt, 28\n",
        "            )\n",
        "            square_assignments = get_square_assignments(assignments, n_sqrt)\n",
        "            spikes_ = {layer: spikes[layer].get(\"s\") for layer in spikes}\n",
        "            voltages = {\"Ae\": exc_voltages, \"Ai\": inh_voltages}\n",
        "            inpt_axes, inpt_ims = plot_input(\n",
        "                image, inpt, label=batch[\"label\"], axes=inpt_axes, ims=inpt_ims\n",
        "            )\n",
        "            spike_ims, spike_axes = plot_spikes(spikes_, ims=spike_ims, axes=spike_axes)\n",
        "            weights_im = plot_weights(square_weights, im=weights_im)\n",
        "            assigns_im = plot_assignments(square_assignments, im=assigns_im, classes=label_list)\n",
        "            perf_ax = plot_performance(accuracy, ax=perf_ax)\n",
        "            voltage_ims, voltage_axes = plot_voltages(\n",
        "                voltages, ims=voltage_ims, axes=voltage_axes, plot_type=\"line\"\n",
        "            )\n",
        "\n",
        "            # plt.pause(1e-8)\n",
        "            # plt.pause(0.1)\n",
        "\n",
        "        # Reset all layer except connections\n",
        "        network.reset_state_variables()  # Reset state variables.\n",
        "\n",
        "print(\"Progress: %d / %d (%.4f seconds)\" % (epoch + 1, n_epochs, t() - start))\n",
        "print(\"Training complete.\")"
      ],
      "execution_count": 3,
      "outputs": [
        {
          "output_type": "stream",
          "text": [
            "\r  0%|          | 0/60000 [00:00<?, ?it/s]"
          ],
          "name": "stderr"
        },
        {
          "output_type": "stream",
          "text": [
            "\n",
            "\n",
            "\n",
            "Progress: 0 / 1 (0.0007 seconds)\n"
          ],
          "name": "stdout"
        },
        {
          "output_type": "stream",
          "text": [
            "  0%|          | 300/60000 [01:16<4:13:56,  3.92it/s]"
          ],
          "name": "stderr"
        },
        {
          "output_type": "stream",
          "text": [
            "All activity accuracy: 8.67 (last), 8.67 (average), 8.67 (best)\n",
            "Proportion weighting accuracy: 8.67 (last), 8.67 (average), 8.67 (best)\n",
            "......\n"
          ],
          "name": "stdout"
        },
        {
          "output_type": "stream",
          "text": [
            "100%|█████████▉| 59700/60000 [4:47:55<01:25,  3.49it/s]"
          ],
          "name": "stderr"
        },
        {
          "output_type": "stream",
          "text": [
            "All activity accuracy: 82.33 (last), 76.27 (average), 87.67 (best)\n",
            "Proportion weighting accuracy: 83.33 (last), 77.11 (average), 88.33 (best)\n"
          ],
          "name": "stdout"
        },
        {
          "output_type": "stream",
          "text": [
            "100%|██████████| 60000/60000 [4:49:20<00:00,  3.46it/s]\n"
          ],
          "name": "stderr"
        },
        {
          "output_type": "stream",
          "text": [
            "Progress: 1 / 1 (17360.6965 seconds)\n",
            "Training complete.\n"
          ],
          "name": "stdout"
        },
        {
          "output_type": "display_data",
          "data": {
            "image/png": "[encoded data removed]",
            "text/plain": [
              "<Figure size 576x288 with 2 Axes>"
            ]
          },
          "metadata": {
            "tags": []
          }
        },
        {
          "output_type": "display_data",
          "data": {
            "image/png": "[encoded data removed]",
            "text/plain": [
              "<Figure size 576x324 with 3 Axes>"
            ]
          },
          "metadata": {
            "tags": []
          }
        },
        {
          "output_type": "display_data",
          "data": {
            "image/png": "[encoded data removed]",
            "text/plain": [
              "<Figure size 360x360 with 2 Axes>"
            ]
          },
          "metadata": {
            "tags": [],
            "needs_background": "light"
          }
        },
        {
          "output_type": "display_data",
          "data": {
            "image/png": "[encoded data removed]",
            "text/plain": [
              "<Figure size 360x360 with 2 Axes>"
            ]
          },
          "metadata": {
            "tags": [],
            "needs_background": "light"
          }
        },
        {
          "output_type": "display_data",
          "data": {
            "image/png": "[encoded data removed]",
            "text/plain": [
              "<Figure size 504x288 with 1 Axes>"
            ]
          },
          "metadata": {
            "tags": [],
            "needs_background": "light"
          }
        },
        {
          "output_type": "display_data",
          "data": {
            "image/png": "[encoded data removed]",
            "text/plain": [
              "<Figure size 576x324 with 2 Axes>"
            ]
          },
          "metadata": {
            "tags": [],
            "needs_background": "light"
          }
        }
      ]
    },
    {
      "cell_type": "markdown",
      "metadata": {
        "id": "zqSz3GkW3zl0",
        "colab_type": "text"
      },
      "source": [
        "# 测试网络"
      ]
    },
    {
      "cell_type": "code",
      "metadata": {
        "id": "QgXk1MDr3wcs",
        "colab_type": "code",
        "colab": {
          "base_uri": "https://localhost:8080/",
          "height": 121
        },
        "outputId": "b1729de2-70a9-4fdd-e078-7b1b39597a12"
      },
      "source": [
        "# Load MNIST data.\n",
        "test_dataset = MNIST(\n",
        "    PoissonEncoder(time=time, dt=dt),\n",
        "    None,\n",
        "    root=\"data\" if local else os.path.join(\"..\", \"..\", \"data\", \"MNIST\"),\n",
        "    download=False,\n",
        "    train=False,\n",
        "    transform=transforms.Compose(\n",
        "        [transforms.ToTensor(), transforms.Lambda(lambda x: x * intensity)]\n",
        "    ),\n",
        ")\n",
        "\n",
        "# Sequence of accuracy estimates.\n",
        "accuracy = {\"all\": 0, \"proportion\": 0}\n",
        "\n",
        "# Record spikes during the simulation.\n",
        "spike_record = torch.zeros(1, int(time/dt), n_neurons)\n",
        "\n",
        "# Train the network.\n",
        "print(\"Begin testing\")\n",
        "network.train(mode=False)\n",
        "start = t()\n",
        "\n",
        "for step, batch in enumerate(tqdm(test_dataset)):\n",
        "    # Get next input sample.\n",
        "    inputs = {\"X\": batch[\"encoded_image\"].view(int(time/dt), 1, 1, 28, 28)}\n",
        "    if gpu:\n",
        "        inputs = {k: v.cuda() for k, v in inputs.items()}\n",
        "\n",
        "    # Run the network on the input.\n",
        "    network.run(inputs=inputs, time=time, input_time_dim=1)\n",
        "\n",
        "    # Add to spikes recording.\n",
        "    spike_record[0] = spikes[\"Ae\"].get(\"s\").squeeze()\n",
        "\n",
        "    # Convert the array of labels into a tensor\n",
        "    label_tensor = torch.tensor(batch[\"label\"])\n",
        "\n",
        "    # Get network predictions.\n",
        "    all_activity_pred = all_activity(\n",
        "        spikes=spike_record, assignments=assignments, n_labels=n_classes\n",
        "    )\n",
        "    proportion_pred = proportion_weighting(\n",
        "        spikes=spike_record,\n",
        "        assignments=assignments,\n",
        "        proportions=proportions,\n",
        "        n_labels=n_classes,\n",
        "    )\n",
        "\n",
        "    # Compute network accuracy according to available classification strategies.\n",
        "    accuracy[\"all\"] += float(torch.sum(label_tensor.long() == all_activity_pred).item())\n",
        "    accuracy[\"proportion\"] += float(torch.sum(label_tensor.long() == proportion_pred).item())\n",
        "\n",
        "    network.reset_state_variables()  # Reset state variables.\n",
        "\n",
        "print(\"All activity accuracy: %.2f\" % (accuracy[\"all\"] / test_dataset.test_labels.shape[0]))\n",
        "print(\"Proportion weighting accuracy: %.2f\" % ( accuracy[\"proportion\"] / test_dataset.test_labels.shape[0]))\n",
        "\n",
        "\n",
        "print(\"Progress: %d / %d (%.4f seconds)\" % (epoch + 1, n_epochs, t() - start))\n",
        "print(\"Testing complete.\")"
      ],
      "execution_count": 4,
      "outputs": [
        {
          "output_type": "stream",
          "text": [
            "  0%|          | 1/10000 [00:00<20:13,  8.24it/s]"
          ],
          "name": "stderr"
        },
        {
          "output_type": "stream",
          "text": [
            "Begin testing\n"
          ],
          "name": "stdout"
        },
        {
          "output_type": "stream",
          "text": [
            "100%|██████████| 10000/10000 [20:07<00:00,  8.28it/s]"
          ],
          "name": "stderr"
        },
        {
          "output_type": "stream",
          "text": [
            "All activity accuracy: 0.81\n",
            "Proportion weighting accuracy: 0.82\n",
            "Progress: 1 / 1 (1207.6580 seconds)\n",
            "Testing complete.\n"
          ],
          "name": "stdout"
        },
        {
          "output_type": "stream",
          "text": [
            "\n"
          ],
          "name": "stderr"
        }
      ]
    },
    {
      "cell_type": "markdown",
      "metadata": {
        "id": "z5qAi5myURBq",
        "colab_type": "text"
      },
      "source": [
        "# 保存网络到硬盘"
      ]
    },
    {
      "cell_type": "code",
      "metadata": {
        "id": "74IeaN5cCcBO",
        "colab_type": "code",
        "colab": {}
      },
      "source": [
        "# weights = {}\n",
        "# weights[\"rates\"] = rates\n",
        "# torch.save(weights, weight_dirc_path + \"rates.pth\")\n",
        "torch.save(network.state_dict(), weight_dirc_path + \"_connections.pth\")"
      ],
      "execution_count": 5,
      "outputs": []
    }
  ]
}